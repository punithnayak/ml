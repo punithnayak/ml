{
 "cells": [
  {
   "cell_type": "code",
   "execution_count": 3,
   "metadata": {},
   "outputs": [
    {
     "ename": "NameError",
     "evalue": "name 'pd' is not defined",
     "output_type": "error",
     "traceback": [
      "\u001b[0;31m---------------------------------------------------------------------------\u001b[0m",
      "\u001b[0;31mNameError\u001b[0m                                 Traceback (most recent call last)",
      "\u001b[0;32m<ipython-input-3-13f566fd5bb6>\u001b[0m in \u001b[0;36m<module>\u001b[0;34m\u001b[0m\n\u001b[1;32m      1\u001b[0m \u001b[0;31m#question 1\u001b[0m\u001b[0;34m\u001b[0m\u001b[0;34m\u001b[0m\u001b[0;34m\u001b[0m\u001b[0m\n\u001b[0;32m----> 2\u001b[0;31m \u001b[0mdata\u001b[0m \u001b[0;34m=\u001b[0m \u001b[0mpd\u001b[0m\u001b[0;34m.\u001b[0m\u001b[0mread_csv\u001b[0m\u001b[0;34m(\u001b[0m\u001b[0;34m\"gold_rate.csv\"\u001b[0m\u001b[0;34m)\u001b[0m\u001b[0;34m\u001b[0m\u001b[0;34m\u001b[0m\u001b[0m\n\u001b[0m\u001b[1;32m      3\u001b[0m \u001b[0;34m\u001b[0m\u001b[0m\n\u001b[1;32m      4\u001b[0m \u001b[0;31m# Extracting years and prices from the DataFrame\u001b[0m\u001b[0;34m\u001b[0m\u001b[0;34m\u001b[0m\u001b[0;34m\u001b[0m\u001b[0m\n\u001b[1;32m      5\u001b[0m \u001b[0myears\u001b[0m \u001b[0;34m=\u001b[0m \u001b[0mdata\u001b[0m\u001b[0;34m[\u001b[0m\u001b[0;34m\"Year\"\u001b[0m\u001b[0;34m]\u001b[0m\u001b[0;34m.\u001b[0m\u001b[0mvalues\u001b[0m\u001b[0;34m.\u001b[0m\u001b[0mreshape\u001b[0m\u001b[0;34m(\u001b[0m\u001b[0;34m-\u001b[0m\u001b[0;36m1\u001b[0m\u001b[0;34m,\u001b[0m \u001b[0;36m1\u001b[0m\u001b[0;34m)\u001b[0m\u001b[0;34m\u001b[0m\u001b[0;34m\u001b[0m\u001b[0m\n",
      "\u001b[0;31mNameError\u001b[0m: name 'pd' is not defined"
     ]
    }
   ],
   "source": [
    "#question 1\n",
    "data = pd.read_csv(\"gold_rate.csv\")\n",
    "\n",
    "# Extracting years and prices from the DataFrame\n",
    "years = data[\"Year\"].values.reshape(-1, 1)\n",
    "prices = data[\"Price (24 karat per 10 grams)\"].values\n",
    "\n",
    "# Fitting the linear regression model\n",
    "regression_model = LinearRegression()\n",
    "regression_model.fit(years, prices)\n",
    "\n",
    "# Coefficients obtained from the regression model\n",
    "slope = regression_model.coef_[0]\n",
    "intercept = regression_model.intercept_\n",
    "\n",
    "print(\"Coefficients:\")\n",
    "print(\"Slope:\", slope)\n",
    "print(\"Intercept:\", intercept)\n",
    "\n",
    "# Predict the gold price for the year 2025\n",
    "predicted_price_2025 = regression_model.predict([[2025]])\n",
    "print(\"Predicted gold price for 2025:\", predicted_price_2025[0])\n",
    "\n",
    "# Compare with sklearn model\n",
    "sklearn_model = LinearRegression().fit(years, prices)\n",
    "sklearn_predicted_price_2025 = sklearn_model.predict([[2025]])\n",
    "\n",
    "print(\"\\nSklearn Model Coefficients:\")\n",
    "print(\"Slope:\", sklearn_model.coef_[0])\n",
    "print(\"Intercept:\", sklearn_model.intercept_)\n",
    "\n",
    "# Compute the Mean Squared Error (MSE) and Root Mean Squared Error (RMSE)\n",
    "mse = mean_squared_error(prices, regression_model.predict(years))\n",
    "rmse = np.sqrt(mse)\n",
    "\n",
    "print(\"\\nErrors:\")\n",
    "print(\"MSE:\", mse)\n",
    "print(\"RMSE:\", rmse)"
   ]
  },
  {
   "cell_type": "code",
   "execution_count": null,
   "metadata": {},
   "outputs": [],
   "source": []
  },
  {
   "cell_type": "code",
   "execution_count": null,
   "metadata": {},
   "outputs": [],
   "source": []
  },
  {
   "cell_type": "code",
   "execution_count": null,
   "metadata": {},
   "outputs": [],
   "source": []
  }
 ],
 "metadata": {
  "kernelspec": {
   "display_name": "Python 3",
   "language": "python",
   "name": "python3"
  },
  "language_info": {
   "codemirror_mode": {
    "name": "ipython",
    "version": 3
   },
   "file_extension": ".py",
   "mimetype": "text/x-python",
   "name": "python",
   "nbconvert_exporter": "python",
   "pygments_lexer": "ipython3",
   "version": "3.8.10"
  }
 },
 "nbformat": 4,
 "nbformat_minor": 4
}
